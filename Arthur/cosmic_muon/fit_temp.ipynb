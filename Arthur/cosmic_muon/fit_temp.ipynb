{
 "cells": [
  {
   "cell_type": "code",
   "execution_count": 1,
   "id": "a50e1168-1cc5-4602-b585-d0c17867ef74",
   "metadata": {},
   "outputs": [],
   "source": [
    "import numpy as np\n",
    "import matplotlib.pyplot as plt"
   ]
  },
  {
   "cell_type": "code",
   "execution_count": null,
   "id": "84c86694-8e53-4355-b027-edde0e485b1f",
   "metadata": {},
   "outputs": [],
   "source": [
    "width \n",
    "length \n",
    "height\n",
    "\n",
    "\n",
    "x1 = np.random.rand(-width/2 , width/2)\n",
    "y1 = np.random.rand(0 , length)\n",
    "\n",
    "\n",
    "x2 = np.random.rand(-width/2 , width/2)\n",
    "y2 = np.random.rand(0 , length)\n",
    "\n",
    "L = np.sqrt((x1-y1)**2 + (x2-y2)**2 + height**2)\n",
    "\n",
    "\n",
    "cos = h/L\n",
    "\n",
    "v_signal \\approx 2/3 c \n",
    "\n",
    "t_signal = (np.sqrt(x1**2 + y1**2) - np.sqrt(x2**2 + y2**2))/v_signal\n",
    "\n",
    "t = L/v_mu  + t_signal + t_0\n",
    "\n",
    "prob of event = cos**2"
   ]
  }
 ],
 "metadata": {
  "kernelspec": {
   "display_name": "Python 3 (ipykernel)",
   "language": "python",
   "name": "python3"
  },
  "language_info": {
   "codemirror_mode": {
    "name": "ipython",
    "version": 3
   },
   "file_extension": ".py",
   "mimetype": "text/x-python",
   "name": "python",
   "nbconvert_exporter": "python",
   "pygments_lexer": "ipython3",
   "version": "3.13.7"
  }
 },
 "nbformat": 4,
 "nbformat_minor": 5
}
