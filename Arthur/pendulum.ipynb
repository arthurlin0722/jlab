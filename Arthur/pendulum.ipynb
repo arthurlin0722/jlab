{
 "cells": [
  {
   "cell_type": "code",
   "execution_count": 1,
   "id": "a8883157-c162-442a-826d-cec5e30e8f3b",
   "metadata": {},
   "outputs": [],
   "source": [
    "import numpy as np\n",
    "from scipy.odr import ODR, Model, RealData\n",
    "from scipy.optimize import curve_fit\n",
    "import matplotlib.pyplot as plt\n"
   ]
  },
  {
   "cell_type": "code",
   "execution_count": 2,
   "id": "fae5b057-72bb-4544-80ca-573ec46b7491",
   "metadata": {},
   "outputs": [
    {
     "name": "stdout",
     "output_type": "stream",
     "text": [
      "[16.494 14.716 13.124 11.074  8.562]\n",
      "[0.0150333  0.0132665  0.02014944 0.01805547 0.02130728]\n",
      "[0.01805547 0.01661325 0.02249444 0.02063977 0.0235372 ]\n",
      "[1.6494 1.4716 1.3124 1.1074 0.8562]\n",
      "[0.00180555 0.00166132 0.00224944 0.00206398 0.00235372]\n"
     ]
    }
   ],
   "source": [
    "raw_T10 = np.array([\n",
    "[16.45, 16.53, 16.52, 16.50, 16.47], \n",
    "[14.69, 14.69, 14.76, 14.73, 14.71], \n",
    "[13.10, 13.16, 13.18, 13.11, 13.07], \n",
    "[11.08, 11.07, 11.09, 11.12, 11.01], \n",
    "[8.61, 8.50, 8.55, 8.61, 8.54]])\n",
    "\n",
    "T10_mean = np.mean(raw_T10, axis = 1)\n",
    "T10_ustat = np.std(raw_T10, axis = 1, ddof =1)/np.sqrt(raw_T10.shape[1])\n",
    "\n",
    "print(T10_mean)\n",
    "print(T10_ustat)\n",
    "\n",
    "T10_u = np.sqrt( T10_ustat**2 + (0.01*np.ones(raw_T10.shape[1]))**2 )\n",
    "                 \n",
    "print(T10_u)\n",
    "\n",
    "T_mean = T10_mean/10\n",
    "sT = T10_u/10\n",
    "\n",
    "print(T_mean)\n",
    "print(sT)"
   ]
  },
  {
   "cell_type": "markdown",
   "id": "82823684-d338-4874-b319-e4b446767e39",
   "metadata": {},
   "source": [
    "recall for $f = x^n$, $u_f  = |n x^{n-1}| u_x$"
   ]
  },
  {
   "cell_type": "code",
   "execution_count": 3,
   "id": "9405a528-cb00-49f5-8956-9f962a00799e",
   "metadata": {},
   "outputs": [
    {
     "name": "stdout",
     "output_type": "stream",
     "text": [
      "[2.72052036 2.16560656 1.72239376 1.22633476 0.73307844]\n",
      "[0.00595614 0.00488961 0.00590434 0.0045713  0.00403051]\n"
     ]
    }
   ],
   "source": [
    "Tsquare_mean = T_mean**2 \n",
    "print(Tsquare_mean)\n",
    "sT_square = 2*T_mean*sT\n",
    "print(sT_square)"
   ]
  },
  {
   "cell_type": "code",
   "execution_count": 4,
   "id": "0f1c37a1-55fb-4b1f-8792-af4c5aa42e05",
   "metadata": {},
   "outputs": [
    {
     "name": "stdout",
     "output_type": "stream",
     "text": [
      "Beta: [4.02017042 0.1185701 ]\n",
      "Beta Std Error: [0.03368695 0.01334448]\n",
      "Beta Covariance: [[ 1.69019815e-04 -6.01732779e-05]\n",
      " [-6.01732779e-05  2.65227068e-05]]\n",
      "Residual Variance: 6.714068078115594\n",
      "Inverse Condition #: 0.09757575046538261\n",
      "Reason(s) for Halting:\n",
      "  Sum of squares convergence\n"
     ]
    }
   ],
   "source": [
    "\n",
    "\n",
    "# Example data\n",
    "l0 = np.array([65, 50.5, 40, 27.8, 15.2], dtype=float)/100\n",
    "sl0 = np.array([0.029, 0.029, 0.029, 0.029, 0.029])/100  # uncertainties in l0\n",
    "\n",
    "\n",
    "\n",
    "\n",
    "# Linear model\n",
    "def f(B, x):\n",
    "    return B[0] * x + B[1]  # slope * x + intercept\n",
    "\n",
    "linear = Model(f)\n",
    "data = RealData(l0, Tsquare_mean, sl0, sT_square)\n",
    "\n",
    "odr = ODR(data, linear, beta0=[2., 0.])\n",
    "out = odr.run()\n",
    "\n",
    "out.pprint()\n",
    "\n",
    "slope, intercept = out.beta\n",
    "cov = out.cov_beta      # covariance matrix [[var_m, cov],[cov, var_b]]\n",
    "var_m, var_b = cov[0,0], cov[1,1]\n",
    "cov_mb = cov[0,1]"
   ]
  },
  {
   "cell_type": "code",
   "execution_count": 5,
   "id": "5400767c-8252-4f51-b847-475f8214e05f",
   "metadata": {},
   "outputs": [
    {
     "data": {
      "image/png": "[encoded data removed]",
      "text/plain": [
       "<Figure size 640x480 with 1 Axes>"
      ]
     },
     "metadata": {},
     "output_type": "display_data"
    }
   ],
   "source": [
    "# Prediction line\n",
    "l0_fit = np.linspace(min(l0)-0.01, max(l0)+0.01)\n",
    "Tsquare_fit = slope * l0_fit + intercept\n",
    "\n",
    "# Uncertainty on prediction\n",
    "sigma_Tsquare = np.sqrt( var_m*l0_fit**2 +\n",
    "                         var_b + \n",
    "                         2*cov_mb*l0_fit +\n",
    "                         (slope**2)*(np.mean(sl0)**2) )\n",
    "\n",
    "plt.errorbar(l0, Tsquare_mean, xerr=sl0, yerr=sT_square, fmt='o', label=\"data\")\n",
    "\n",
    "plt.plot(l0_fit , Tsquare_fit, 'r-', label=f\"Fit: $T^2={slope:.3f}l_0+{intercept:.3f}$\")\n",
    "plt.fill_between(l0_fit , Tsquare_fit - 2*sigma_Tsquare, Tsquare_fit + 2*sigma_Tsquare, color='r', alpha=0.33,\n",
    "                 label=\"Fit uncertainty (2σ)\")\n",
    "\n",
    "\n",
    "plt.xlabel(r\"$l_0$ (m)\")\n",
    "plt.ylabel(r\"$T^2$ (s$^2$)\")\n",
    "plt.legend()\n",
    "plt.title(r\"Linear regression of $T^2 - l_0$\")\n",
    "plt.show()"
   ]
  },
  {
   "cell_type": "code",
   "execution_count": 6,
   "id": "6271925d-c4d3-4dcb-a5d3-99e04d9af2dc",
   "metadata": {},
   "outputs": [],
   "source": [
    "import pandas as pd\n",
    "\n",
    "df = pd.read_csv('pendulumData.csv')"
   ]
  },
  {
   "cell_type": "code",
   "execution_count": 7,
   "id": "6dc11183-59e1-4003-b808-53b512846e7c",
   "metadata": {},
   "outputs": [
    {
     "name": "stdout",
     "output_type": "stream",
     "text": [
      "               label  g (m/s2) stat uncert     sys uncert total uncert\n",
      "0    20.Sep.X.B01.01     9.830      0.0075  \"+0.35,-0.44\"          NaN\n",
      "1    20.Sep.X.B01.02     9.060        0.14           0.23          NaN\n",
      "2    20.Sep.X.B01.03     9.790        0.02           0.02          NaN\n",
      "3    20.Sep.X.B01.04     9.882       0.016           0.13          NaN\n",
      "4    20.Sep.X.B01.05   978.000          17              8          NaN\n",
      "..               ...       ...         ...            ...          ...\n",
      "477   25.Feb.B.B02.5     9.850         NaN            NaN         0.03\n",
      "478   25.Feb.B.B02.6     9.600         0.2            0.1          NaN\n",
      "479   25.Feb.B.B02.7     9.778         NaN            NaN        0.017\n",
      "480   25.Feb.B.B02.8     9.890         NaN            NaN          0.2\n",
      "481   25.Feb.B.B02.9     9.700        0.18          0.028          NaN\n",
      "\n",
      "[482 rows x 5 columns]\n"
     ]
    }
   ],
   "source": [
    "print(df)"
   ]
  },
  {
   "cell_type": "code",
   "execution_count": 8,
   "id": "cdc738f2-b41f-4905-9c89-74811e590b47",
   "metadata": {},
   "outputs": [
    {
     "data": {
      "text/plain": [
       "Text(0.5, 0, '$g$(m/s$^2$)')"
      ]
     },
     "execution_count": 8,
     "metadata": {},
     "output_type": "execute_result"
    },
    {
     "data": {
      "image/png": "[encoded data removed]",
      "text/plain": [
       "<Figure size 640x480 with 1 Axes>"
      ]
     },
     "metadata": {},
     "output_type": "display_data"
    }
   ],
   "source": [
    "plt.hist(df['g (m/s2)'], alpha =0.5, bins = 30000)\n",
    "plt.xlim(9.0, 10.5)\n",
    "plt.ylabel('counts')\n",
    "plt.xlabel(r'$g$(m/s$^2$)')"
   ]
  },
  {
   "cell_type": "code",
   "execution_count": 9,
   "id": "e00731c7-2110-4734-93e7-ae0d66ea1b8e",
   "metadata": {},
   "outputs": [
    {
     "data": {
      "text/plain": [
       "np.float64(11.842510332840247)"
      ]
     },
     "execution_count": 9,
     "metadata": {},
     "output_type": "execute_result"
    }
   ],
   "source": [
    "np.mean(df['g (m/s2)'])"
   ]
  },
  {
   "cell_type": "code",
   "execution_count": 10,
   "id": "52de9802-ec4f-4efd-a07f-08fe49e5017c",
   "metadata": {},
   "outputs": [
    {
     "data": {
      "text/plain": [
       "np.float64(44.059951957262534)"
      ]
     },
     "execution_count": 10,
     "metadata": {},
     "output_type": "execute_result"
    }
   ],
   "source": [
    "np.std(df['g (m/s2)'])"
   ]
  },
  {
   "cell_type": "code",
   "execution_count": 11,
   "id": "e2fdddfb-1e8b-4c52-b2ed-526edb2b0597",
   "metadata": {},
   "outputs": [
    {
     "data": {
      "text/plain": [
       "482"
      ]
     },
     "execution_count": 11,
     "metadata": {},
     "output_type": "execute_result"
    }
   ],
   "source": [
    "len(df['g (m/s2)'])"
   ]
  },
  {
   "cell_type": "code",
   "execution_count": 12,
   "id": "258da09d-f4b9-4ab3-a73d-7f7a35998e85",
   "metadata": {},
   "outputs": [
    {
     "name": "stdout",
     "output_type": "stream",
     "text": [
      "(array([  4, 226]),)\n",
      "(array([466]),)\n"
     ]
    }
   ],
   "source": [
    "#find weird values\n",
    "\n",
    "print(np.where(df['g (m/s2)']>=15))\n",
    "print(np.where(df['g (m/s2)']<=5))"
   ]
  },
  {
   "cell_type": "code",
   "execution_count": 13,
   "id": "57277773-cce5-4b78-8557-1581d14e15cc",
   "metadata": {},
   "outputs": [
    {
     "data": {
      "text/plain": [
       "np.float64(978.0)"
      ]
     },
     "execution_count": 13,
     "metadata": {},
     "output_type": "execute_result"
    }
   ],
   "source": [
    "df['g (m/s2)'][4]\n",
    "\n",
    "#clearly this one forgot to change units lol"
   ]
  },
  {
   "cell_type": "code",
   "execution_count": 14,
   "id": "b11a04d4-c4a0-4fa1-b327-d43bacf77a76",
   "metadata": {},
   "outputs": [],
   "source": [
    "df_trimmed = df[(df['g (m/s2)'] >= 8) & (df['g (m/s2)'] <= 11)]"
   ]
  },
  {
   "cell_type": "code",
   "execution_count": 22,
   "id": "eecb95f4-c87c-453f-8c94-2748ab730284",
   "metadata": {},
   "outputs": [
    {
     "data": {
      "text/plain": [
       "Text(0.5, 0, '$g$(m/s$^2$)')"
      ]
     },
     "execution_count": 22,
     "metadata": {},
     "output_type": "execute_result"
    },
    {
     "data": {
      "image/png": "[encoded data removed]",
      "text/plain": [
       "<Figure size 640x480 with 1 Axes>"
      ]
     },
     "metadata": {},
     "output_type": "display_data"
    }
   ],
   "source": [
    "plt.hist(df_trimmed['g (m/s2)'], density = True, alpha =0.5, bins = 100)\n",
    "plt.xlim(9.0, 10.5)\n",
    "plt.ylabel(r'probability density (s$^2$/m)')\n",
    "plt.xlabel(r'$g$(m/s$^2$)')"
   ]
  },
  {
   "cell_type": "code",
   "execution_count": 71,
   "id": "13d054dc-0cf8-4149-b33d-5c3fb249ebcc",
   "metadata": {},
   "outputs": [],
   "source": [
    "counts, bin_edges = np.histogram(df_trimmed['g (m/s2)'], bins=50, density=True)\n",
    "bin_centers = (bin_edges[:-1] + bin_edges[1:]) / 2 "
   ]
  },
  {
   "cell_type": "code",
   "execution_count": 72,
   "id": "26e4ad7b-7605-4470-8d8b-0a1a25595567",
   "metadata": {},
   "outputs": [],
   "source": [
    "def gaussian(x, mu, sigma):\n",
    "    return np.exp(-(x - mu)**2 / (2* sigma**2))/np.sqrt(2*np.pi*sigma**2)"
   ]
  },
  {
   "cell_type": "code",
   "execution_count": 73,
   "id": "eab443fe-8b60-48b4-8a42-bb90b485e58e",
   "metadata": {},
   "outputs": [
    {
     "data": {
      "image/png": "[encoded data removed]",
      "text/plain": [
       "<Figure size 640x480 with 1 Axes>"
      ]
     },
     "metadata": {},
     "output_type": "display_data"
    },
    {
     "name": "stdout",
     "output_type": "stream",
     "text": [
      "chi² = 31407807.38, reduced chi² = 654329.32\n",
      "[9.79344007 0.14894361]\n",
      "[[ 1.49190289e-04 -7.32164101e-11]\n",
      " [-7.32164101e-11  9.94601957e-05]]\n"
     ]
    },
    {
     "data": {
      "text/plain": [
       "<Figure size 640x480 with 0 Axes>"
      ]
     },
     "metadata": {},
     "output_type": "display_data"
    }
   ],
   "source": [
    "\n",
    "\n",
    "popt, pcov = curve_fit(gaussian, bin_centers, counts, p0=[9.8, 0.05]) \n",
    "\n",
    "\n",
    "\n",
    "# --- Step 5: Plot result ---\n",
    "\n",
    "plt.hist(df_trimmed['g (m/s2)'], bins=50, density=True, label = 'data')\n",
    "x_fit = np.linspace(bin_edges[0], bin_edges[-1], 50)\n",
    "plt.plot(x_fit, gaussian(x_fit, *popt), 'r-', label=\"fit\")\n",
    "plt.legend()\n",
    "plt.xlim(9,10.5)\n",
    "plt.xlabel(r'$g$ (m/s$^2$)')\n",
    "plt.ylabel(r'probability density (s$^2$/m)')\n",
    "#plt.title('histogram of $g$ values')\n",
    "plt.show()\n",
    "\n",
    "# --- Compute chi² ---\n",
    "expected = gaussian(bin_centers, *popt)\n",
    "observed = counts\n",
    "# avoid division by zero by adding small epsilon\n",
    "chi2 = np.sum((observed - expected) ** 2 / (expected + 1e-9))\n",
    "\n",
    "# degrees of freedom = number of data points - number of fit parameters\n",
    "ndof = len(observed) - len(popt)\n",
    "chi2_red = chi2 / ndof\n",
    "\n",
    "print(f\"chi² = {chi2:.2f}, reduced chi² = {chi2_red:.2f}\")\n",
    "\n",
    "print(popt)\n",
    "print(pcov)\n",
    "\n",
    "plt.savefig('g_hist.png')"
   ]
  },
  {
   "cell_type": "code",
   "execution_count": 74,
   "id": "cb3a9fa2-6c3a-4e3f-97d4-9abcceb99b39",
   "metadata": {},
   "outputs": [
    {
     "data": {
      "text/plain": [
       "np.float64(0.35988967606111155)"
      ]
     },
     "execution_count": 74,
     "metadata": {},
     "output_type": "execute_result"
    }
   ],
   "source": [
    "np.std(df_trimmed['g (m/s2)'])"
   ]
  },
  {
   "cell_type": "code",
   "execution_count": 75,
   "id": "90c2486e-18b5-4143-8524-af42bfc227f3",
   "metadata": {},
   "outputs": [],
   "source": [
    "x_range = np.linspace(9.79438658 - 2*0.13901386, 9.79438658 + 2*0.13901386)\n",
    "\n",
    "def integrand(x):\n",
    "    return gaussian(x, *popt)\n",
    "\n",
    "from scipy.integrate import quad \n",
    "integral, err = quad(integrand, 9.79438658 - 2*0.13901386, 9.79438658 + 2*0.13901386)"
   ]
  },
  {
   "cell_type": "code",
   "execution_count": 76,
   "id": "7d0a3fb2-bead-4eb0-8c80-a435dddc475b",
   "metadata": {},
   "outputs": [
    {
     "name": "stdout",
     "output_type": "stream",
     "text": [
      "0.9380462543563342\n"
     ]
    }
   ],
   "source": [
    "print(integral)"
   ]
  },
  {
   "cell_type": "code",
   "execution_count": 68,
   "id": "464409ea-379a-4753-92e7-428d1ce1b706",
   "metadata": {},
   "outputs": [
    {
     "name": "stdout",
     "output_type": "stream",
     "text": [
      "(336,)\n"
     ]
    }
   ],
   "source": [
    "print(\n",
    "    np.intersect1d( np.where(df['g (m/s2)']<=9.79438658 + 2*0.13901386), \n",
    "                np.where(df['g (m/s2)']>=9.79438658 - 2*0.13901386)  ).shape\n",
    ")"
   ]
  },
  {
   "cell_type": "code",
   "execution_count": 69,
   "id": "f774afbc-9428-4a66-96a4-a6ff05f48660",
   "metadata": {},
   "outputs": [
    {
     "name": "stdout",
     "output_type": "stream",
     "text": [
      "0.7257019438444925\n"
     ]
    }
   ],
   "source": [
    "print(336/df_trimmed.shape[0])"
   ]
  },
  {
   "cell_type": "code",
   "execution_count": null,
   "id": "254f110d-ebd0-4f8c-9eaf-ea6cb0738ae3",
   "metadata": {},
   "outputs": [],
   "source": []
  }
 ],
 "metadata": {
  "kernelspec": {
   "display_name": "Python 3 (ipykernel)",
   "language": "python",
   "name": "python3"
  },
  "language_info": {
   "codemirror_mode": {
    "name": "ipython",
    "version": 3
   },
   "file_extension": ".py",
   "mimetype": "text/x-python",
   "name": "python",
   "nbconvert_exporter": "python",
   "pygments_lexer": "ipython3",
   "version": "3.13.7"
  }
 },
 "nbformat": 4,
 "nbformat_minor": 5
}
